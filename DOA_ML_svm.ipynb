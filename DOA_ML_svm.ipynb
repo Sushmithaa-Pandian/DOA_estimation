{
  "nbformat": 4,
  "nbformat_minor": 0,
  "metadata": {
    "colab": {
      "provenance": [],
      "authorship_tag": "ABX9TyPHYBgO6gNXIfb00M3OEHPF",
      "include_colab_link": true
    },
    "kernelspec": {
      "name": "python3",
      "display_name": "Python 3"
    },
    "language_info": {
      "name": "python"
    }
  },
  "cells": [
    {
      "cell_type": "markdown",
      "metadata": {
        "id": "view-in-github",
        "colab_type": "text"
      },
      "source": [
        "<a href=\"https://colab.research.google.com/github/Sushmithaa-Pandian/DOA_estimation/blob/main/DOA_ML_svm.ipynb\" target=\"_parent\"><img src=\"https://colab.research.google.com/assets/colab-badge.svg\" alt=\"Open In Colab\"/></a>"
      ]
    },
    {
      "cell_type": "code",
      "execution_count": null,
      "metadata": {
        "colab": {
          "base_uri": "https://localhost:8080/"
        },
        "id": "-_-1YS5ScRMT",
        "outputId": "de4b6728-b2bc-49b1-9bb5-d93ad388a464"
      },
      "outputs": [
        {
          "output_type": "stream",
          "name": "stdout",
          "text": [
            "Drive already mounted at /content/gdrive; to attempt to forcibly remount, call drive.mount(\"/content/gdrive\", force_remount=True).\n"
          ]
        }
      ],
      "source": [
        "from google.colab import drive\n",
        "\n",
        "drive.mount('/content/gdrive')"
      ]
    },
    {
      "cell_type": "code",
      "source": [
        "import tensorflow as tf\n",
        "from tensorflow.keras.models import Model\n",
        "from tensorflow.keras.layers import Dense, Input\n",
        "\n",
        "import pandas as pd\n",
        "import matplotlib.pyplot as plt\n",
        "import seaborn as sns\n",
        "import numpy as np\n",
        "\n",
        "from tensorflow.python.keras.utils.vis_utils import plot_model\n",
        "import pydot\n",
        "\n",
        "from scipy.stats import norm\n",
        "from scipy import stats\n",
        "\n",
        "from sklearn.model_selection import train_test_split"
      ],
      "metadata": {
        "id": "XEar52gUdqv4"
      },
      "execution_count": null,
      "outputs": []
    },
    {
      "cell_type": "code",
      "source": [
        "from sklearn.datasets import make_regression\n",
        "from sklearn.multioutput import MultiOutputRegressor\n",
        "from sklearn.svm import SVR\n",
        "from sklearn.model_selection import train_test_split\n",
        "from sklearn.metrics import mean_squared_error, mean_absolute_error"
      ],
      "metadata": {
        "id": "AI8KoXfYCco4"
      },
      "execution_count": null,
      "outputs": []
    },
    {
      "cell_type": "code",
      "source": [
        "import pandas as pd"
      ],
      "metadata": {
        "id": "-bteM9bxdvFb"
      },
      "execution_count": null,
      "outputs": []
    },
    {
      "cell_type": "code",
      "source": [
        "df = pd.read_excel('/content/gdrive/MyDrive/Datasource.xlsx')"
      ],
      "metadata": {
        "id": "xWaVCPr-dvDs"
      },
      "execution_count": null,
      "outputs": []
    },
    {
      "cell_type": "code",
      "source": [
        "df.head()"
      ],
      "metadata": {
        "colab": {
          "base_uri": "https://localhost:8080/",
          "height": 256
        },
        "id": "gu_ZrdsMdvBF",
        "outputId": "8518bc1d-6a76-4c9a-aa4d-504c3055b19c"
      },
      "execution_count": null,
      "outputs": [
        {
          "output_type": "execute_result",
          "data": {
            "text/plain": [
              "   angle1  angle2      abs1      abs2      abs3      abs4      abs5      abs6  \\\n",
              "0       0       0  0.447125  0.447122  0.447604  0.447695  0.446522  0.198727   \n",
              "1       0       5  0.438708  0.452517  0.455946  0.450772  0.437814  0.630027   \n",
              "2       0      10  0.409033  0.463223  0.480823  0.464287  0.413961  0.628563   \n",
              "3       0      15  0.346619  0.473894  0.524607  0.488996  0.375433  0.629631   \n",
              "4       0      20  0.278040  0.502763  0.583968  0.502231  0.276890  0.611198   \n",
              "\n",
              "       abs7      abs8  ...      ang1      ang2      ang3      ang4  ang5  \\\n",
              "0  0.147635  0.345530  ... -0.000225  0.000769 -0.001097  0.000241   0.0   \n",
              "1  0.319577  0.002098  ...  0.545715  0.408314  0.272721  0.136991   0.0   \n",
              "2  0.328361  0.001069  ...  1.091664  0.818705  0.543170  0.272879   0.0   \n",
              "3  0.348066  0.012504  ...  1.617124  1.213888  0.808144  0.405103   0.0   \n",
              "4  0.354886  0.000174  ...  2.146574  1.613057  1.075673  0.535726   0.0   \n",
              "\n",
              "       ang6      ang7      ang8      ang9  ang10  \n",
              "0 -2.818755 -2.034246  2.758516  2.910794    0.0  \n",
              "1 -2.593351 -2.739787  1.502368  0.129063    0.0  \n",
              "2 -2.047092 -2.327716 -1.428757  0.276000    0.0  \n",
              "3 -1.517094 -1.928183 -2.310853  0.415619    0.0  \n",
              "4 -0.992686 -1.529234  0.603271  0.537501    0.0  \n",
              "\n",
              "[5 rows x 22 columns]"
            ],
            "text/html": [
              "\n",
              "  <div id=\"df-7a80c4a1-4ba7-40f8-8395-fc10389933d9\" class=\"colab-df-container\">\n",
              "    <div>\n",
              "<style scoped>\n",
              "    .dataframe tbody tr th:only-of-type {\n",
              "        vertical-align: middle;\n",
              "    }\n",
              "\n",
              "    .dataframe tbody tr th {\n",
              "        vertical-align: top;\n",
              "    }\n",
              "\n",
              "    .dataframe thead th {\n",
              "        text-align: right;\n",
              "    }\n",
              "</style>\n",
              "<table border=\"1\" class=\"dataframe\">\n",
              "  <thead>\n",
              "    <tr style=\"text-align: right;\">\n",
              "      <th></th>\n",
              "      <th>angle1</th>\n",
              "      <th>angle2</th>\n",
              "      <th>abs1</th>\n",
              "      <th>abs2</th>\n",
              "      <th>abs3</th>\n",
              "      <th>abs4</th>\n",
              "      <th>abs5</th>\n",
              "      <th>abs6</th>\n",
              "      <th>abs7</th>\n",
              "      <th>abs8</th>\n",
              "      <th>...</th>\n",
              "      <th>ang1</th>\n",
              "      <th>ang2</th>\n",
              "      <th>ang3</th>\n",
              "      <th>ang4</th>\n",
              "      <th>ang5</th>\n",
              "      <th>ang6</th>\n",
              "      <th>ang7</th>\n",
              "      <th>ang8</th>\n",
              "      <th>ang9</th>\n",
              "      <th>ang10</th>\n",
              "    </tr>\n",
              "  </thead>\n",
              "  <tbody>\n",
              "    <tr>\n",
              "      <th>0</th>\n",
              "      <td>0</td>\n",
              "      <td>0</td>\n",
              "      <td>0.447125</td>\n",
              "      <td>0.447122</td>\n",
              "      <td>0.447604</td>\n",
              "      <td>0.447695</td>\n",
              "      <td>0.446522</td>\n",
              "      <td>0.198727</td>\n",
              "      <td>0.147635</td>\n",
              "      <td>0.345530</td>\n",
              "      <td>...</td>\n",
              "      <td>-0.000225</td>\n",
              "      <td>0.000769</td>\n",
              "      <td>-0.001097</td>\n",
              "      <td>0.000241</td>\n",
              "      <td>0.0</td>\n",
              "      <td>-2.818755</td>\n",
              "      <td>-2.034246</td>\n",
              "      <td>2.758516</td>\n",
              "      <td>2.910794</td>\n",
              "      <td>0.0</td>\n",
              "    </tr>\n",
              "    <tr>\n",
              "      <th>1</th>\n",
              "      <td>0</td>\n",
              "      <td>5</td>\n",
              "      <td>0.438708</td>\n",
              "      <td>0.452517</td>\n",
              "      <td>0.455946</td>\n",
              "      <td>0.450772</td>\n",
              "      <td>0.437814</td>\n",
              "      <td>0.630027</td>\n",
              "      <td>0.319577</td>\n",
              "      <td>0.002098</td>\n",
              "      <td>...</td>\n",
              "      <td>0.545715</td>\n",
              "      <td>0.408314</td>\n",
              "      <td>0.272721</td>\n",
              "      <td>0.136991</td>\n",
              "      <td>0.0</td>\n",
              "      <td>-2.593351</td>\n",
              "      <td>-2.739787</td>\n",
              "      <td>1.502368</td>\n",
              "      <td>0.129063</td>\n",
              "      <td>0.0</td>\n",
              "    </tr>\n",
              "    <tr>\n",
              "      <th>2</th>\n",
              "      <td>0</td>\n",
              "      <td>10</td>\n",
              "      <td>0.409033</td>\n",
              "      <td>0.463223</td>\n",
              "      <td>0.480823</td>\n",
              "      <td>0.464287</td>\n",
              "      <td>0.413961</td>\n",
              "      <td>0.628563</td>\n",
              "      <td>0.328361</td>\n",
              "      <td>0.001069</td>\n",
              "      <td>...</td>\n",
              "      <td>1.091664</td>\n",
              "      <td>0.818705</td>\n",
              "      <td>0.543170</td>\n",
              "      <td>0.272879</td>\n",
              "      <td>0.0</td>\n",
              "      <td>-2.047092</td>\n",
              "      <td>-2.327716</td>\n",
              "      <td>-1.428757</td>\n",
              "      <td>0.276000</td>\n",
              "      <td>0.0</td>\n",
              "    </tr>\n",
              "    <tr>\n",
              "      <th>3</th>\n",
              "      <td>0</td>\n",
              "      <td>15</td>\n",
              "      <td>0.346619</td>\n",
              "      <td>0.473894</td>\n",
              "      <td>0.524607</td>\n",
              "      <td>0.488996</td>\n",
              "      <td>0.375433</td>\n",
              "      <td>0.629631</td>\n",
              "      <td>0.348066</td>\n",
              "      <td>0.012504</td>\n",
              "      <td>...</td>\n",
              "      <td>1.617124</td>\n",
              "      <td>1.213888</td>\n",
              "      <td>0.808144</td>\n",
              "      <td>0.405103</td>\n",
              "      <td>0.0</td>\n",
              "      <td>-1.517094</td>\n",
              "      <td>-1.928183</td>\n",
              "      <td>-2.310853</td>\n",
              "      <td>0.415619</td>\n",
              "      <td>0.0</td>\n",
              "    </tr>\n",
              "    <tr>\n",
              "      <th>4</th>\n",
              "      <td>0</td>\n",
              "      <td>20</td>\n",
              "      <td>0.278040</td>\n",
              "      <td>0.502763</td>\n",
              "      <td>0.583968</td>\n",
              "      <td>0.502231</td>\n",
              "      <td>0.276890</td>\n",
              "      <td>0.611198</td>\n",
              "      <td>0.354886</td>\n",
              "      <td>0.000174</td>\n",
              "      <td>...</td>\n",
              "      <td>2.146574</td>\n",
              "      <td>1.613057</td>\n",
              "      <td>1.075673</td>\n",
              "      <td>0.535726</td>\n",
              "      <td>0.0</td>\n",
              "      <td>-0.992686</td>\n",
              "      <td>-1.529234</td>\n",
              "      <td>0.603271</td>\n",
              "      <td>0.537501</td>\n",
              "      <td>0.0</td>\n",
              "    </tr>\n",
              "  </tbody>\n",
              "</table>\n",
              "<p>5 rows × 22 columns</p>\n",
              "</div>\n",
              "    <div class=\"colab-df-buttons\">\n",
              "\n",
              "  <div class=\"colab-df-container\">\n",
              "    <button class=\"colab-df-convert\" onclick=\"convertToInteractive('df-7a80c4a1-4ba7-40f8-8395-fc10389933d9')\"\n",
              "            title=\"Convert this dataframe to an interactive table.\"\n",
              "            style=\"display:none;\">\n",
              "\n",
              "  <svg xmlns=\"http://www.w3.org/2000/svg\" height=\"24px\" viewBox=\"0 -960 960 960\">\n",
              "    <path d=\"M120-120v-720h720v720H120Zm60-500h600v-160H180v160Zm220 220h160v-160H400v160Zm0 220h160v-160H400v160ZM180-400h160v-160H180v160Zm440 0h160v-160H620v160ZM180-180h160v-160H180v160Zm440 0h160v-160H620v160Z\"/>\n",
              "  </svg>\n",
              "    </button>\n",
              "\n",
              "  <style>\n",
              "    .colab-df-container {\n",
              "      display:flex;\n",
              "      gap: 12px;\n",
              "    }\n",
              "\n",
              "    .colab-df-convert {\n",
              "      background-color: #E8F0FE;\n",
              "      border: none;\n",
              "      border-radius: 50%;\n",
              "      cursor: pointer;\n",
              "      display: none;\n",
              "      fill: #1967D2;\n",
              "      height: 32px;\n",
              "      padding: 0 0 0 0;\n",
              "      width: 32px;\n",
              "    }\n",
              "\n",
              "    .colab-df-convert:hover {\n",
              "      background-color: #E2EBFA;\n",
              "      box-shadow: 0px 1px 2px rgba(60, 64, 67, 0.3), 0px 1px 3px 1px rgba(60, 64, 67, 0.15);\n",
              "      fill: #174EA6;\n",
              "    }\n",
              "\n",
              "    .colab-df-buttons div {\n",
              "      margin-bottom: 4px;\n",
              "    }\n",
              "\n",
              "    [theme=dark] .colab-df-convert {\n",
              "      background-color: #3B4455;\n",
              "      fill: #D2E3FC;\n",
              "    }\n",
              "\n",
              "    [theme=dark] .colab-df-convert:hover {\n",
              "      background-color: #434B5C;\n",
              "      box-shadow: 0px 1px 3px 1px rgba(0, 0, 0, 0.15);\n",
              "      filter: drop-shadow(0px 1px 2px rgba(0, 0, 0, 0.3));\n",
              "      fill: #FFFFFF;\n",
              "    }\n",
              "  </style>\n",
              "\n",
              "    <script>\n",
              "      const buttonEl =\n",
              "        document.querySelector('#df-7a80c4a1-4ba7-40f8-8395-fc10389933d9 button.colab-df-convert');\n",
              "      buttonEl.style.display =\n",
              "        google.colab.kernel.accessAllowed ? 'block' : 'none';\n",
              "\n",
              "      async function convertToInteractive(key) {\n",
              "        const element = document.querySelector('#df-7a80c4a1-4ba7-40f8-8395-fc10389933d9');\n",
              "        const dataTable =\n",
              "          await google.colab.kernel.invokeFunction('convertToInteractive',\n",
              "                                                    [key], {});\n",
              "        if (!dataTable) return;\n",
              "\n",
              "        const docLinkHtml = 'Like what you see? Visit the ' +\n",
              "          '<a target=\"_blank\" href=https://colab.research.google.com/notebooks/data_table.ipynb>data table notebook</a>'\n",
              "          + ' to learn more about interactive tables.';\n",
              "        element.innerHTML = '';\n",
              "        dataTable['output_type'] = 'display_data';\n",
              "        await google.colab.output.renderOutput(dataTable, element);\n",
              "        const docLink = document.createElement('div');\n",
              "        docLink.innerHTML = docLinkHtml;\n",
              "        element.appendChild(docLink);\n",
              "      }\n",
              "    </script>\n",
              "  </div>\n",
              "\n",
              "\n",
              "<div id=\"df-edbf6dcb-8b1f-44b7-ac90-cafe0a9beede\">\n",
              "  <button class=\"colab-df-quickchart\" onclick=\"quickchart('df-edbf6dcb-8b1f-44b7-ac90-cafe0a9beede')\"\n",
              "            title=\"Suggest charts.\"\n",
              "            style=\"display:none;\">\n",
              "\n",
              "<svg xmlns=\"http://www.w3.org/2000/svg\" height=\"24px\"viewBox=\"0 0 24 24\"\n",
              "     width=\"24px\">\n",
              "    <g>\n",
              "        <path d=\"M19 3H5c-1.1 0-2 .9-2 2v14c0 1.1.9 2 2 2h14c1.1 0 2-.9 2-2V5c0-1.1-.9-2-2-2zM9 17H7v-7h2v7zm4 0h-2V7h2v10zm4 0h-2v-4h2v4z\"/>\n",
              "    </g>\n",
              "</svg>\n",
              "  </button>\n",
              "\n",
              "<style>\n",
              "  .colab-df-quickchart {\n",
              "      --bg-color: #E8F0FE;\n",
              "      --fill-color: #1967D2;\n",
              "      --hover-bg-color: #E2EBFA;\n",
              "      --hover-fill-color: #174EA6;\n",
              "      --disabled-fill-color: #AAA;\n",
              "      --disabled-bg-color: #DDD;\n",
              "  }\n",
              "\n",
              "  [theme=dark] .colab-df-quickchart {\n",
              "      --bg-color: #3B4455;\n",
              "      --fill-color: #D2E3FC;\n",
              "      --hover-bg-color: #434B5C;\n",
              "      --hover-fill-color: #FFFFFF;\n",
              "      --disabled-bg-color: #3B4455;\n",
              "      --disabled-fill-color: #666;\n",
              "  }\n",
              "\n",
              "  .colab-df-quickchart {\n",
              "    background-color: var(--bg-color);\n",
              "    border: none;\n",
              "    border-radius: 50%;\n",
              "    cursor: pointer;\n",
              "    display: none;\n",
              "    fill: var(--fill-color);\n",
              "    height: 32px;\n",
              "    padding: 0;\n",
              "    width: 32px;\n",
              "  }\n",
              "\n",
              "  .colab-df-quickchart:hover {\n",
              "    background-color: var(--hover-bg-color);\n",
              "    box-shadow: 0 1px 2px rgba(60, 64, 67, 0.3), 0 1px 3px 1px rgba(60, 64, 67, 0.15);\n",
              "    fill: var(--button-hover-fill-color);\n",
              "  }\n",
              "\n",
              "  .colab-df-quickchart-complete:disabled,\n",
              "  .colab-df-quickchart-complete:disabled:hover {\n",
              "    background-color: var(--disabled-bg-color);\n",
              "    fill: var(--disabled-fill-color);\n",
              "    box-shadow: none;\n",
              "  }\n",
              "\n",
              "  .colab-df-spinner {\n",
              "    border: 2px solid var(--fill-color);\n",
              "    border-color: transparent;\n",
              "    border-bottom-color: var(--fill-color);\n",
              "    animation:\n",
              "      spin 1s steps(1) infinite;\n",
              "  }\n",
              "\n",
              "  @keyframes spin {\n",
              "    0% {\n",
              "      border-color: transparent;\n",
              "      border-bottom-color: var(--fill-color);\n",
              "      border-left-color: var(--fill-color);\n",
              "    }\n",
              "    20% {\n",
              "      border-color: transparent;\n",
              "      border-left-color: var(--fill-color);\n",
              "      border-top-color: var(--fill-color);\n",
              "    }\n",
              "    30% {\n",
              "      border-color: transparent;\n",
              "      border-left-color: var(--fill-color);\n",
              "      border-top-color: var(--fill-color);\n",
              "      border-right-color: var(--fill-color);\n",
              "    }\n",
              "    40% {\n",
              "      border-color: transparent;\n",
              "      border-right-color: var(--fill-color);\n",
              "      border-top-color: var(--fill-color);\n",
              "    }\n",
              "    60% {\n",
              "      border-color: transparent;\n",
              "      border-right-color: var(--fill-color);\n",
              "    }\n",
              "    80% {\n",
              "      border-color: transparent;\n",
              "      border-right-color: var(--fill-color);\n",
              "      border-bottom-color: var(--fill-color);\n",
              "    }\n",
              "    90% {\n",
              "      border-color: transparent;\n",
              "      border-bottom-color: var(--fill-color);\n",
              "    }\n",
              "  }\n",
              "</style>\n",
              "\n",
              "  <script>\n",
              "    async function quickchart(key) {\n",
              "      const quickchartButtonEl =\n",
              "        document.querySelector('#' + key + ' button');\n",
              "      quickchartButtonEl.disabled = true;  // To prevent multiple clicks.\n",
              "      quickchartButtonEl.classList.add('colab-df-spinner');\n",
              "      try {\n",
              "        const charts = await google.colab.kernel.invokeFunction(\n",
              "            'suggestCharts', [key], {});\n",
              "      } catch (error) {\n",
              "        console.error('Error during call to suggestCharts:', error);\n",
              "      }\n",
              "      quickchartButtonEl.classList.remove('colab-df-spinner');\n",
              "      quickchartButtonEl.classList.add('colab-df-quickchart-complete');\n",
              "    }\n",
              "    (() => {\n",
              "      let quickchartButtonEl =\n",
              "        document.querySelector('#df-edbf6dcb-8b1f-44b7-ac90-cafe0a9beede button');\n",
              "      quickchartButtonEl.style.display =\n",
              "        google.colab.kernel.accessAllowed ? 'block' : 'none';\n",
              "    })();\n",
              "  </script>\n",
              "</div>\n",
              "    </div>\n",
              "  </div>\n"
            ]
          },
          "metadata": {},
          "execution_count": 152
        }
      ]
    },
    {
      "cell_type": "code",
      "source": [
        "y=df['angle1']"
      ],
      "metadata": {
        "id": "JuHojQ-Ndu7C"
      },
      "execution_count": null,
      "outputs": []
    },
    {
      "cell_type": "code",
      "source": [
        "y1=df['angle2']"
      ],
      "metadata": {
        "id": "OGQ1RQdUD0RY"
      },
      "execution_count": null,
      "outputs": []
    },
    {
      "cell_type": "code",
      "source": [
        "X=df.drop(['angle1','angle2'],axis=1)"
      ],
      "metadata": {
        "id": "-YSLzUMIdu4L"
      },
      "execution_count": null,
      "outputs": []
    },
    {
      "cell_type": "code",
      "source": [
        "X.shape"
      ],
      "metadata": {
        "colab": {
          "base_uri": "https://localhost:8080/"
        },
        "id": "0yGwPuVB9kTz",
        "outputId": "93161106-55c8-46db-c4ca-7ecff0087376"
      },
      "execution_count": null,
      "outputs": [
        {
          "output_type": "execute_result",
          "data": {
            "text/plain": [
              "(361, 20)"
            ]
          },
          "metadata": {},
          "execution_count": 156
        }
      ]
    },
    {
      "cell_type": "code",
      "source": [
        "X_train, X_test, y_train, y_test = train_test_split(X, y, test_size=0.20, random_state=33)"
      ],
      "metadata": {
        "id": "BhZ0kAv6jnbs"
      },
      "execution_count": null,
      "outputs": []
    },
    {
      "cell_type": "code",
      "source": [
        "X1_train, X1_test, y1_train, y1_test = train_test_split(X, y1, test_size=0.20, random_state=33)"
      ],
      "metadata": {
        "id": "Vj8oOt0uEBhv"
      },
      "execution_count": null,
      "outputs": []
    },
    {
      "cell_type": "code",
      "source": [
        "svr = SVR(epsilon=0.2)\n"
      ],
      "metadata": {
        "id": "SUc2_vScniZW"
      },
      "execution_count": null,
      "outputs": []
    },
    {
      "cell_type": "code",
      "source": [
        "mor = svr.fit(X_train, y_train)\n"
      ],
      "metadata": {
        "id": "9Ktep301niUC"
      },
      "execution_count": null,
      "outputs": []
    },
    {
      "cell_type": "code",
      "source": [
        "mor1=svr.fit(X1_train,y1_train)"
      ],
      "metadata": {
        "id": "k517IzEoFREy"
      },
      "execution_count": null,
      "outputs": []
    },
    {
      "cell_type": "code",
      "source": [
        "y_pred = mor.predict(X_test)"
      ],
      "metadata": {
        "id": "l5rAstKbFRB4"
      },
      "execution_count": null,
      "outputs": []
    },
    {
      "cell_type": "code",
      "source": [
        "y1_pred = mor.predict(X1_test)"
      ],
      "metadata": {
        "id": "wk76yDHDFQ-6"
      },
      "execution_count": null,
      "outputs": []
    },
    {
      "cell_type": "code",
      "source": [
        "rmse_one = np.sqrt(mean_squared_error(y_test, y_pred))"
      ],
      "metadata": {
        "id": "vot-k9-XFftJ"
      },
      "execution_count": null,
      "outputs": []
    },
    {
      "cell_type": "code",
      "source": [
        "rmse_two = np.sqrt(mean_squared_error(y1_test, y1_pred))"
      ],
      "metadata": {
        "id": "K961QDsbFjnN"
      },
      "execution_count": null,
      "outputs": []
    },
    {
      "cell_type": "code",
      "source": [
        "rmse_one"
      ],
      "metadata": {
        "colab": {
          "base_uri": "https://localhost:8080/"
        },
        "id": "4xhTRGn_FoqI",
        "outputId": "6bfb4747-4826-4d7e-a986-be037914688b"
      },
      "execution_count": null,
      "outputs": [
        {
          "output_type": "execute_result",
          "data": {
            "text/plain": [
              "24.299802726431665"
            ]
          },
          "metadata": {},
          "execution_count": 166
        }
      ]
    },
    {
      "cell_type": "code",
      "source": [
        "rmse_two"
      ],
      "metadata": {
        "colab": {
          "base_uri": "https://localhost:8080/"
        },
        "id": "TdYqCqxFFrMU",
        "outputId": "38a41bee-b45e-422c-8e31-89a25a8777de"
      },
      "execution_count": null,
      "outputs": [
        {
          "output_type": "execute_result",
          "data": {
            "text/plain": [
              "25.47293477193106"
            ]
          },
          "metadata": {},
          "execution_count": 167
        }
      ]
    },
    {
      "cell_type": "code",
      "source": [
        "print()\n",
        "print(f'angle1_rmse: {rmse_one}')\n",
        "print(f'angle2_rmse: {rmse_two}')"
      ],
      "metadata": {
        "colab": {
          "base_uri": "https://localhost:8080/"
        },
        "id": "adkHVOgM94g7",
        "outputId": "753766b8-bd51-4c0c-8536-34e1b5be3e2f"
      },
      "execution_count": null,
      "outputs": [
        {
          "output_type": "stream",
          "name": "stdout",
          "text": [
            "\n",
            "angle1_rmse: 24.299802726431665\n",
            "angle2_rmse: 25.47293477193106\n"
          ]
        }
      ]
    },
    {
      "cell_type": "code",
      "source": [
        "mae_one = mean_absolute_error(y_test, y_pred)"
      ],
      "metadata": {
        "id": "JGhgB0bFHLeb"
      },
      "execution_count": null,
      "outputs": []
    },
    {
      "cell_type": "code",
      "source": [
        "mae_one"
      ],
      "metadata": {
        "colab": {
          "base_uri": "https://localhost:8080/"
        },
        "id": "yWBMEShgIYrd",
        "outputId": "89af1a94-2218-4c78-ab5d-67e89dee19a1"
      },
      "execution_count": null,
      "outputs": [
        {
          "output_type": "execute_result",
          "data": {
            "text/plain": [
              "20.29341929965814"
            ]
          },
          "metadata": {},
          "execution_count": 172
        }
      ]
    },
    {
      "cell_type": "code",
      "source": [
        "mae_two = mean_absolute_error(y1_test, y1_pred)"
      ],
      "metadata": {
        "id": "nXqSZfyRCD0g"
      },
      "execution_count": null,
      "outputs": []
    },
    {
      "cell_type": "code",
      "source": [
        "mae_two"
      ],
      "metadata": {
        "colab": {
          "base_uri": "https://localhost:8080/"
        },
        "id": "VU_Vx_MEIXXm",
        "outputId": "8f9b4eaf-0aae-45be-d109-1ceab634983c"
      },
      "execution_count": null,
      "outputs": [
        {
          "output_type": "execute_result",
          "data": {
            "text/plain": [
              "21.369227820773503"
            ]
          },
          "metadata": {},
          "execution_count": 175
        }
      ]
    },
    {
      "cell_type": "code",
      "source": [],
      "metadata": {
        "id": "3EcbctUBIbeq"
      },
      "execution_count": null,
      "outputs": []
    }
  ]
}